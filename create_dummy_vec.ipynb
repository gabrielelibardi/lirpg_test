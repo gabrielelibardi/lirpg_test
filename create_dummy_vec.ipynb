{
 "cells": [
  {
   "cell_type": "code",
   "execution_count": 83,
   "metadata": {},
   "outputs": [],
   "source": [
    "#https://stackoverflow.com/questions/20716812/saving-and-loading-multiple-objects-in-pickle-file\n",
    "import pickle\n",
    "import numpy as np\n",
    "\n",
    "# creat all dummy variables\n",
    "\n",
    "# obs, masks, actions, neglogpacs, r_ex, r_in, ret_ex, ret_mix, v_ex, v_mix, td_mix, states,\\\n",
    "# epinfos, ep_r_ex, ep_r_in, ep_len\n",
    "\n",
    "# masks[mbinds], r_ex, ret_ex[mbinds], v_ex[mbinds], td_mix,\n",
    "# v_mix[mbinds], coef_mat, cur_lr_alpha, cur_lr_beta, cur_cliprange)\n",
    "\n",
    "PIK = 'RUNS/dummy_data.dat'\n",
    "    \n",
    "def dump_list(list2dump, mydir):\n",
    "    with open(mydir, \"wb\") as f:\n",
    "        for element in list2dump:\n",
    "            pickle.dump(element, f)\n",
    "\n",
    "obs = np.random.rand(2048, 4)\n",
    "masks = np.random.binomial(1,0.03, 2048)\n",
    "actions = np.random.binomial(1,0.5, 2048)\n",
    "neglogpacs = -np.log(np.random.rand(2048))\n",
    "r_ex = np.random.rand(2048)*3\n",
    "r_in = np.random.rand(2048)*2 -1\n",
    "ret_ex = np.cumsum(r_ex)\n",
    "v_ex = np.random.rand(2048)\n",
    "v_mix = np.random.rand(2048)\n",
    "td_mix = np.random.rand(2048)\n",
    "inds= np.arange(2048)\n",
    "np.random.shuffle(inds)\n",
    "list2dump = []\n",
    "\n",
    "list2dump.append(obs)\n",
    "list2dump.append(masks)\n",
    "list2dump.append(actions)\n",
    "list2dump.append(neglogpacs)\n",
    "list2dump.append(r_ex)\n",
    "list2dump.append(r_in)\n",
    "list2dump.append(ret_ex)\n",
    "list2dump.append(v_ex)\n",
    "list2dump.append(v_mix)\n",
    "list2dump.append(td_mix)\n",
    "list2dump.append(inds)   \n",
    "\n",
    "dump_list(list2dump, PIK)"
   ]
  },
  {
   "cell_type": "code",
   "execution_count": 84,
   "metadata": {},
   "outputs": [],
   "source": [
    "def loadall(filename):\n",
    "    result = []\n",
    "    with open(filename, \"rb\") as f:\n",
    "        while True:\n",
    "            try:\n",
    "                result.append(pickle.load(f))\n",
    "            except EOFError:\n",
    "                break\n",
    "    return result\n",
    "\n",
    "items = loadall(PIK)\n",
    "obs, masks, actions, neglogpacs, r_ex, r_in, ret_ex, v_ex, v_mix, td_mix, inds =  items"
   ]
  },
  {
   "cell_type": "code",
   "execution_count": 116,
   "metadata": {},
   "outputs": [
    {
     "name": "stdout",
     "output_type": "stream",
     "text": [
      "DELTA False\n",
      "SUM DELTA -637.42413\n"
     ]
    }
   ],
   "source": [
    "# COLLECT THE RESULTING COEF_MAT\n",
    "items_out = loadall('RUNS/dummy_data_out.dat')\n",
    "coef_mat_1 = items_out[0]\n",
    "items_out = loadall('RUNS/dummy_data_out_2.dat')\n",
    "coef_mat_2 = items_out[0]\n",
    "delta = (coef_mat_2 == coef_mat_1)\n",
    "print('DELTA', np.all(delta))\n",
    "print('SUM DELTA', np.sum(coef_mat_2 - coef_mat_1))"
   ]
  },
  {
   "cell_type": "code",
   "execution_count": 113,
   "metadata": {},
   "outputs": [],
   "source": []
  }
 ],
 "metadata": {
  "kernelspec": {
   "display_name": "Python [conda env:animal] *",
   "language": "python",
   "name": "conda-env-animal-py"
  },
  "language_info": {
   "codemirror_mode": {
    "name": "ipython",
    "version": 3
   },
   "file_extension": ".py",
   "mimetype": "text/x-python",
   "name": "python",
   "nbconvert_exporter": "python",
   "pygments_lexer": "ipython3",
   "version": "3.6.9"
  }
 },
 "nbformat": 4,
 "nbformat_minor": 2
}
